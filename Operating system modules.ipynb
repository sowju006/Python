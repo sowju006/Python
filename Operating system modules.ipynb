{
 "cells": [
  {
   "cell_type": "markdown",
   "id": "030c7c25",
   "metadata": {},
   "source": [
    "# Operating system  modules"
   ]
  },
  {
   "cell_type": "code",
   "execution_count": null,
   "id": "aba22201",
   "metadata": {},
   "outputs": [],
   "source": [
    "\n",
    "#The OS module in Python provides functions for interacting with the operating system. \n",
    "\n",
    "#OS comes under Python's standard utility modules.\n",
    "\n",
    "#This module provides a portable way of using operating system-dependent functionality. \n",
    "\n",
    "#The *os* and *os. path* modules include many functions to interact with the file system.\n",
    "\n",
    "#exception os.error: An alias for the built-in OSError exception.\n",
    "\n",
    "#os.name: The name of the operating system dependent module imported. \n",
    "\n",
    "#The following names have currently been registered: 'posix', 'nt', 'java'.\n"
   ]
  },
  {
   "cell_type": "code",
   "execution_count": 10,
   "id": "32332a5b",
   "metadata": {},
   "outputs": [
    {
     "name": "stdout",
     "output_type": "stream",
     "text": [
      "nt\n"
     ]
    }
   ],
   "source": [
    "import os\n",
    "print(os.name)"
   ]
  },
  {
   "cell_type": "code",
   "execution_count": 7,
   "id": "b2978793",
   "metadata": {},
   "outputs": [
    {
     "name": "stdout",
     "output_type": "stream",
     "text": [
      "Current working directory: C:\\Users\\sowjanya\\Desktop\\codingrade\n"
     ]
    }
   ],
   "source": [
    "# Python program to explain os.getcwd() method\n",
    "# importing os module\n",
    "\n",
    "import os\n",
    "\n",
    "# Get the current working\n",
    "# directory (CWD)\n",
    "\n",
    "cwd = os.getcwd()\n",
    "\n",
    "# Print the current working\n",
    "# directory (CWD)\n",
    "\n",
    "print(\"Current working directory:\", cwd)"
   ]
  },
  {
   "cell_type": "code",
   "execution_count": 8,
   "id": "bfce73d5",
   "metadata": {},
   "outputs": [
    {
     "name": "stdout",
     "output_type": "stream",
     "text": [
      "Current working directory before\n",
      "C:\\Users\\sowjanya\\Desktop\\codingrade\n",
      "\n",
      "Current working directory before\n",
      "C:\\Users\\sowjanya\\Desktop\n",
      "\n"
     ]
    }
   ],
   "source": [
    "# Python program to change the\n",
    "# current working directory\n",
    "\n",
    "\n",
    "import os\n",
    "\n",
    "# Function to Get the current\n",
    "# working directory\n",
    "def current_path():\n",
    "    print(\"Current working directory before\")\n",
    "    print(os.getcwd())\n",
    "    print()\n",
    "\n",
    "\n",
    "# Driver's code\n",
    "# Printing CWD before\n",
    "current_path()\n",
    "\n",
    "# Changing the CWD\n",
    "os.chdir('../')\n",
    "\n",
    "# Printing CWD after\n",
    "current_path()\n"
   ]
  },
  {
   "cell_type": "code",
   "execution_count": 9,
   "id": "b959ae91",
   "metadata": {},
   "outputs": [
    {
     "name": "stdout",
     "output_type": "stream",
     "text": [
      "Files and directories in ' / ' :\n",
      "['$Recycle.Bin', '$WinREAgent', 'Config.Msi', 'Documents and Settings', 'DumpStack.log.tmp', 'hiberfil.sys', 'hp', 'hpswsetup', 'Intel', 'OneDriveTemp', 'pagefile.sys', 'PerfLogs', 'Program Files', 'Program Files (x86)', 'ProgramData', 'Recovery', 'swapfile.sys', 'System Volume Information', 'System.sav', 'Users', 'Windows']\n"
     ]
    }
   ],
   "source": [
    "# Python program to explain os.listdir() method\n",
    "\n",
    "# importing os module\n",
    "import os\n",
    "\n",
    "# Get the list of all files and directories\n",
    "# in the root directory\n",
    "path = \"/\"\n",
    "dir_list = os.listdir(path)\n",
    "\n",
    "print(\"Files and directories in '\", path, \"' :\")\n",
    "\n",
    "# print the list\n",
    "print(dir_list)\n"
   ]
  },
  {
   "cell_type": "code",
   "execution_count": null,
   "id": "aed04de2",
   "metadata": {},
   "outputs": [],
   "source": []
  }
 ],
 "metadata": {
  "kernelspec": {
   "display_name": "Python 3 (ipykernel)",
   "language": "python",
   "name": "python3"
  },
  "language_info": {
   "codemirror_mode": {
    "name": "ipython",
    "version": 3
   },
   "file_extension": ".py",
   "mimetype": "text/x-python",
   "name": "python",
   "nbconvert_exporter": "python",
   "pygments_lexer": "ipython3",
   "version": "3.10.2"
  }
 },
 "nbformat": 4,
 "nbformat_minor": 5
}
