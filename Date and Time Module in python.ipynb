{
 "cells": [
  {
   "cell_type": "markdown",
   "id": "7cd544f6",
   "metadata": {},
   "source": [
    "# Date and time module in python"
   ]
  },
  {
   "cell_type": "code",
   "execution_count": null,
   "id": "e34d4054",
   "metadata": {},
   "outputs": [],
   "source": [
    "\n",
    "*In Python, date and time are not a data type of their own, but a module named datetime can be imported to work with \n",
    " the date as well as time. \n",
    "\n",
    "*Python Datetime module comes built into Python, so there is no need to install it externally. "
   ]
  },
  {
   "cell_type": "code",
   "execution_count": null,
   "id": "92ae1d84",
   "metadata": {},
   "outputs": [],
   "source": [
    "\n",
    "*date – An idealized naive date, assuming the current Gregorian calendar always was, and always will be, in effect. \n",
    " Its attributes are year, month and day.\n",
    "\n",
    "*time – An idealized time, independent of any particular day, assuming that every day has exactly 24*60*60 seconds. \n",
    " Its attributes are hour, minute, second, microsecond, and tzinfo.\n",
    "\n",
    "*datetime – Its a combination of date and time along with the attributes year, month, day, hour, minute,second,microsecond, \n",
    " and tzinfo.\n",
    "\n",
    "*timedelta – A duration expressing the difference between two date, time, or datetime instances to microsecond resolution.\n"
   ]
  },
  {
   "cell_type": "code",
   "execution_count": 1,
   "id": "1a583287",
   "metadata": {},
   "outputs": [
    {
     "name": "stdout",
     "output_type": "stream",
     "text": [
      "Today's date is 2022-02-14\n"
     ]
    }
   ],
   "source": [
    "# Python program to\n",
    "# print current date\n",
    "\n",
    "from datetime import date\n",
    "\n",
    "# calling the today\n",
    "# function of date class\n",
    "today = date.today()\n",
    "\n",
    "print(\"Today's date is\", today)\n"
   ]
  },
  {
   "cell_type": "code",
   "execution_count": 2,
   "id": "a6f82480",
   "metadata": {},
   "outputs": [
    {
     "name": "stdout",
     "output_type": "stream",
     "text": [
      "Current year: 2022\n",
      "Current month: 2\n",
      "Current day: 14\n"
     ]
    }
   ],
   "source": [
    "from datetime import date\n",
    "\n",
    "# date object of today's date\n",
    "today = date.today()\n",
    "\n",
    "print(\"Current year:\", today.year)\n",
    "print(\"Current month:\", today.month)\n",
    "print(\"Current day:\", today.day)\n"
   ]
  },
  {
   "cell_type": "code",
   "execution_count": 3,
   "id": "e0e8ef40",
   "metadata": {},
   "outputs": [
    {
     "name": "stdout",
     "output_type": "stream",
     "text": [
      "Datetime from timestamp: 2029-10-25 21:47:48\n"
     ]
    }
   ],
   "source": [
    "from datetime import datetime\n",
    "\n",
    "# Getting Datetime from timestamp\n",
    "date_time = datetime.fromtimestamp(1887639468)\n",
    "print(\"Datetime from timestamp:\", date_time)\n"
   ]
  },
  {
   "cell_type": "code",
   "execution_count": 4,
   "id": "ef75b7ee",
   "metadata": {},
   "outputs": [
    {
     "name": "stdout",
     "output_type": "stream",
     "text": [
      "String Representation 2022-02-14\n",
      "<class 'str'>\n"
     ]
    }
   ],
   "source": [
    "from datetime import date\n",
    "\n",
    "# calling the today\n",
    "# function of date class\n",
    "today = date.today()\n",
    "\n",
    "# Converting the date to the string\n",
    "Str = date.isoformat(today)\n",
    "print(\"String Representation\", Str)\n",
    "print(type(Str))\n"
   ]
  },
  {
   "cell_type": "code",
   "execution_count": 5,
   "id": "2443f726",
   "metadata": {},
   "outputs": [
    {
     "name": "stdout",
     "output_type": "stream",
     "text": [
      "hour = 11\n",
      "minute = 34\n",
      "second = 56\n",
      "microsecond = 0\n"
     ]
    }
   ],
   "source": [
    "from datetime import time\n",
    "\n",
    "Time = time(11, 34, 56)\n",
    "\n",
    "print(\"hour =\", Time.hour)\n",
    "print(\"minute =\", Time.minute)\n",
    "print(\"second =\", Time.second)\n",
    "print(\"microsecond =\", Time.microsecond)\n"
   ]
  },
  {
   "cell_type": "code",
   "execution_count": 6,
   "id": "6e598242",
   "metadata": {},
   "outputs": [
    {
     "name": "stdout",
     "output_type": "stream",
     "text": [
      "year = 1999\n",
      "month = 12\n",
      "hour = 12\n",
      "minute = 12\n",
      "timestamp = 944980932.0\n"
     ]
    }
   ],
   "source": [
    "from datetime import datetime\n",
    "\n",
    "a = datetime(1999, 12, 12, 12, 12, 12)\n",
    "\n",
    "print(\"year =\", a.year)\n",
    "print(\"month =\", a.month)\n",
    "print(\"hour =\", a.hour)\n",
    "print(\"minute =\", a.minute)\n",
    "print(\"timestamp =\", a.timestamp())\n"
   ]
  },
  {
   "cell_type": "code",
   "execution_count": null,
   "id": "14fec8c8",
   "metadata": {},
   "outputs": [],
   "source": []
  }
 ],
 "metadata": {
  "kernelspec": {
   "display_name": "Python 3 (ipykernel)",
   "language": "python",
   "name": "python3"
  },
  "language_info": {
   "codemirror_mode": {
    "name": "ipython",
    "version": 3
   },
   "file_extension": ".py",
   "mimetype": "text/x-python",
   "name": "python",
   "nbconvert_exporter": "python",
   "pygments_lexer": "ipython3",
   "version": "3.9.7"
  }
 },
 "nbformat": 4,
 "nbformat_minor": 5
}
