{
 "cells": [
  {
   "cell_type": "markdown",
   "id": "8f1039da",
   "metadata": {},
   "source": [
    "# Python Advanced Functions"
   ]
  },
  {
   "cell_type": "markdown",
   "id": "616eb37c",
   "metadata": {},
   "source": [
    "# lambda() function"
   ]
  },
  {
   "cell_type": "code",
   "execution_count": null,
   "id": "a346fce7",
   "metadata": {},
   "outputs": [],
   "source": [
    "\n",
    "A lambda function is a small anonymous function.\n",
    "\n",
    "A lambda function can take any number of arguments,but can only have one expression.\n",
    "\n",
    "syntax:\n",
    "    \n",
    "lambda arguments:expression\n",
    "    "
   ]
  },
  {
   "cell_type": "code",
   "execution_count": 2,
   "id": "66f5bda4",
   "metadata": {},
   "outputs": [
    {
     "name": "stdout",
     "output_type": "stream",
     "text": [
      "17\n"
     ]
    }
   ],
   "source": [
    "x = lambda a,b,c : a + b + c\n",
    "print(x(8,2,7))"
   ]
  },
  {
   "cell_type": "markdown",
   "id": "9b773341",
   "metadata": {},
   "source": [
    "# filter() function"
   ]
  },
  {
   "cell_type": "code",
   "execution_count": null,
   "id": "cb54ea18",
   "metadata": {},
   "outputs": [],
   "source": [
    "\n",
    "The filter() method filters the given sequence with the help of a function that tests each element in the sequence \n",
    "to be true or not.\n",
    "\n",
    "syntax:\n",
    "    \n",
    "filter(function,sequence)\n",
    "\n",
    "Parameters:\n",
    "\n",
    "    function:function that tests if each element of a sequence true or not\n",
    "    \n",
    "    sequence:sequence which needs to be filtered,it can be sets,tuples,lists, or containers of any iterators.\n",
    "    \n",
    "Returns:return an iterator that is already filtered.\n"
   ]
  },
  {
   "cell_type": "code",
   "execution_count": 3,
   "id": "e68b62a8",
   "metadata": {},
   "outputs": [
    {
     "name": "stdout",
     "output_type": "stream",
     "text": [
      "The filtered letters are:\n",
      "e\n",
      "e\n"
     ]
    }
   ],
   "source": [
    "# function that filters vowels\n",
    "def fun(variable):\n",
    "    letters = ['a', 'e', 'i', 'o', 'u']\n",
    "    if (variable in letters):\n",
    "        return True\n",
    "    else:\n",
    "        return False\n",
    "\n",
    "\n",
    "# sequence\n",
    "sequence = ['g', 'e', 'e', 'j', 'k', 's', 'p', 'r']\n",
    "\n",
    "# using filter function\n",
    "filtered = filter(fun, sequence)\n",
    "\n",
    "print('The filtered letters are:')\n",
    "for s in filtered:\n",
    "    print(s)\n"
   ]
  },
  {
   "cell_type": "code",
   "execution_count": 4,
   "id": "9fdafc10",
   "metadata": {},
   "outputs": [
    {
     "name": "stdout",
     "output_type": "stream",
     "text": [
      "[45, 32, 92]\n"
     ]
    }
   ],
   "source": [
    "rollno=[2,45,17,32,92,12]\n",
    "\n",
    "def myfun(x):\n",
    "    if x<20:\n",
    "        return False\n",
    "    else:\n",
    "        return True\n",
    "school=filter(myfun,rollno)\n",
    "print(list(school))"
   ]
  },
  {
   "cell_type": "markdown",
   "id": "ee902a7b",
   "metadata": {},
   "source": [
    "# generator() function"
   ]
  },
  {
   "cell_type": "code",
   "execution_count": null,
   "id": "088e19e2",
   "metadata": {},
   "outputs": [],
   "source": [
    "\n",
    "A generator-function is defined like a normal function,but whenever it needs to generate a value,\n",
    "it does so with the yield keyword rather than return. \n",
    "\n",
    "If the body of a def contains yield, the function automatically becomes a generator function.\n"
   ]
  },
  {
   "cell_type": "code",
   "execution_count": 5,
   "id": "cf9711c8",
   "metadata": {},
   "outputs": [
    {
     "name": "stdout",
     "output_type": "stream",
     "text": [
      "1\n",
      "2\n",
      "3\n"
     ]
    }
   ],
   "source": [
    "# A generator function that yields 1 for first time,\n",
    "# 2 second time and 3 third time\n",
    "def simpleGeneratorFun():\n",
    "    yield 1\n",
    "    yield 2\n",
    "    yield 3\n",
    "\n",
    "# Driver code to check above generator function\n",
    "for value in simpleGeneratorFun():\n",
    "    print(value)\n"
   ]
  },
  {
   "cell_type": "code",
   "execution_count": 6,
   "id": "84948bca",
   "metadata": {},
   "outputs": [
    {
     "name": "stdout",
     "output_type": "stream",
     "text": [
      "1\n",
      "2\n",
      "3\n"
     ]
    }
   ],
   "source": [
    "#A generator function\n",
    "def simpleGeneratorFun():\n",
    "    yield 1\n",
    "    yield 2\n",
    "    yield 3\n",
    "\n",
    "#x is a generator function\n",
    "x=simpleGeneratorFun()\n",
    "\n",
    "#Iterating over the generator object using next\n",
    "\n",
    "print(x.__next__()) #in python3,__next__()\n",
    "print(x.__next__())\n",
    "print(x.__next__())\n"
   ]
  },
  {
   "cell_type": "code",
   "execution_count": null,
   "id": "6f88e575",
   "metadata": {},
   "outputs": [],
   "source": [
    "# yield Keyword\n",
    "\n",
    "Yield is a keyword in Python that is used to return from a function \n",
    "without destroying the states of its local variable and when the function is called, \n",
    "the execution starts from the last yield statement. \n",
    "\n",
    "Any function that contains a yield keyword is termed a generator. Hence, yield is what makes a generator.\n",
    "\n",
    "The yield statement is responsible for controlling the flow of the generator function.\n",
    "It pauses the function execution by saving all states and yielded to the caller. \n",
    "Later it resumes execution when a successive function is called. \n",
    "We can use the multiple yield statement in the generator function.\n",
    "\n",
    "The return statement returns a value and terminates the whole function and only\n",
    "one return statement can be used in the function.\n"
   ]
  },
  {
   "cell_type": "code",
   "execution_count": 2,
   "id": "e1fd3e73",
   "metadata": {},
   "outputs": [
    {
     "name": "stdout",
     "output_type": "stream",
     "text": [
      "15\n",
      "30\n",
      "45\n",
      "60\n",
      "75\n"
     ]
    }
   ],
   "source": [
    "def table(n):  \n",
    "    for i in range(1,6):  \n",
    "        yield n*i  \n",
    "        i = i+1  \n",
    "  \n",
    "for i in table(15):  \n",
    "    print(i)  "
   ]
  },
  {
   "cell_type": "markdown",
   "id": "ea329cf8",
   "metadata": {},
   "source": [
    "# map() function"
   ]
  },
  {
   "cell_type": "code",
   "execution_count": null,
   "id": "040b6881",
   "metadata": {},
   "outputs": [],
   "source": [
    "The python map() function is used to return a list of results\n",
    "after applying a given function to each item of an iterable(list, tuple etc.)\n",
    "\n",
    "syntax:\n",
    "    \n",
    "map(function, iterables)  "
   ]
  },
  {
   "cell_type": "code",
   "execution_count": 3,
   "id": "7cb4a175",
   "metadata": {},
   "outputs": [
    {
     "name": "stdout",
     "output_type": "stream",
     "text": [
      "[2, 4, 6, 8]\n"
     ]
    }
   ],
   "source": [
    "def calculateAddition(n):  \n",
    "    return n+n  \n",
    "  \n",
    "numbers = (1, 2, 3, 4)  \n",
    "result = map(calculateAddition, numbers)  \n",
    "print(list(result))"
   ]
  },
  {
   "cell_type": "markdown",
   "id": "c6af3aec",
   "metadata": {},
   "source": [
    "# reduce() function"
   ]
  },
  {
   "cell_type": "code",
   "execution_count": null,
   "id": "eb94451e",
   "metadata": {},
   "outputs": [],
   "source": [
    "The reduce() function, as the name describes,\n",
    "applies a given function to the iterables and returns a single value.\n"
   ]
  },
  {
   "cell_type": "code",
   "execution_count": 6,
   "id": "88e74db4",
   "metadata": {},
   "outputs": [
    {
     "data": {
      "text/plain": [
       "(1, 2, 3, 4, 5, 67, 8, 5, 1, 2, 3, 4, 5, 67, 8, 5)"
      ]
     },
     "execution_count": 6,
     "metadata": {},
     "output_type": "execute_result"
    }
   ],
   "source": [
    "def add(*a):\n",
    "    return a+a\n",
    "add(1,2,3,4,5,67,8,5)"
   ]
  },
  {
   "cell_type": "code",
   "execution_count": 7,
   "id": "0f1b4208",
   "metadata": {},
   "outputs": [
    {
     "name": "stdout",
     "output_type": "stream",
     "text": [
      "189\n"
     ]
    }
   ],
   "source": [
    "from functools import reduce\n",
    " # reduce(function,sequence)\n",
    "d=reduce(lambda a,b: a+b,[23,21,45,98,2])\n",
    "print(d)"
   ]
  },
  {
   "cell_type": "code",
   "execution_count": 8,
   "id": "99c856d1",
   "metadata": {},
   "outputs": [
    {
     "name": "stdout",
     "output_type": "stream",
     "text": [
      "[121, 484, 1089, 1936, 3025]\n",
      "[22, 44]\n"
     ]
    }
   ],
   "source": [
    "def even(x):\n",
    "    if x%2==0:\n",
    "        print(x)\n",
    "#diff bw filter and map\n",
    "nums = [11, 22, 33, 44, 55]\n",
    "map = list(map(lambda x: x**2, nums))\n",
    "print(list(map))\n",
    "filter = list(filter(lambda x: x%2==0, nums))\n",
    "print(filter)"
   ]
  },
  {
   "cell_type": "code",
   "execution_count": null,
   "id": "80d29409",
   "metadata": {},
   "outputs": [],
   "source": []
  }
 ],
 "metadata": {
  "kernelspec": {
   "display_name": "Python 3 (ipykernel)",
   "language": "python",
   "name": "python3"
  },
  "language_info": {
   "codemirror_mode": {
    "name": "ipython",
    "version": 3
   },
   "file_extension": ".py",
   "mimetype": "text/x-python",
   "name": "python",
   "nbconvert_exporter": "python",
   "pygments_lexer": "ipython3",
   "version": "3.9.7"
  }
 },
 "nbformat": 4,
 "nbformat_minor": 5
}
